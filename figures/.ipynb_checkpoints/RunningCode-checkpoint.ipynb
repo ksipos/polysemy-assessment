{
 "cells": [
  {
   "cell_type": "code",
   "execution_count": 4,
   "metadata": {},
   "outputs": [
    {
     "name": "stdout",
     "output_type": "stream",
     "text": [
      "dict_keys(['wikipedia:', 'random:', 'wordnet_restricted:', 'frequency:', 'ontonotes:', 'google:', 'wordnet_original:', 'wndomains:'])\n"
     ]
    }
   ],
   "source": [
    "# Cell for loading data\n",
    "\n",
    "import os\n",
    "import numpy as np\n",
    "scores = {}\n",
    "# Mapper between filename and label inside the ndcg results\n",
    "name_mapper = {\n",
    "    \"gt-wndomains_ranking\": \"wndomains:\",\n",
    "    \"gt-wordnet_restricted\": \"wordnet_restricted:\",\n",
    "    \"gt-wordnet_original\": \"wordnet_original:\",\n",
    "    \"gt-google_list\": \"google:\",\n",
    "    \"gt-wikipedia_disambiguation_rank\": \"wikipedia:\",\n",
    "    \"gt-ontonotes_ranking\": \"ontonotes:\",\n",
    "    \"gt-frequency_ranking\": \"frequency:\",    \n",
    "    \"gt-random_ranking\": \"random:\",\n",
    "}\n",
    "\n",
    "\n",
    "for name in os.listdir('ndcg'):\n",
    "    fname = 'ndcg/' + name\n",
    "    if '-' not in fname:\n",
    "        continue\n",
    "    name = name_mapper[name.split(\".\")[0]]\n",
    "    \n",
    "    with open(fname, 'r') as f:\n",
    "        for line in f:\n",
    "            resname, resscore = line.replace(\"\\n\", \"\").split()\n",
    "            # Use this to ignore the rest of the pyramid\n",
    "            if 'pyramid' in resname or 'random' in resname:\n",
    "                continue\n",
    "                \n",
    "            scores[name] = scores.get(name, {})\n",
    "            scores[name][resname] = float(resscore)\n",
    "print(scores.keys())\n",
    "indx = list(scores.keys())\n",
    "del indx[indx.index(\"frequency:\")] # Put it last in the index\n",
    "indx.append('frequency:')\n",
    "data = np.zeros((len(indx), len(indx)))\n",
    "for k, values in scores.items():\n",
    "    for k2, v in values.items():\n",
    "#         print(k, k2, indx.index(k), indx.index(k2), v)\n",
    "        data[indx.index(k)][indx.index(k2)] = v"
   ]
  },
  {
   "cell_type": "code",
   "execution_count": 5,
   "metadata": {},
   "outputs": [
    {
     "data": {
      "text/plain": [
       "<Figure size 700x700 with 2 Axes>"
      ]
     },
     "metadata": {},
     "output_type": "display_data"
    }
   ],
   "source": [
    "# Cell for heatmap\n",
    "import matplotlib.pyplot as plt\n",
    "import numpy as np\n",
    "\n",
    "\n",
    "fig, ax = plt.subplots()\n",
    "fig.set_figheight(7)\n",
    "fig.set_figwidth(7)\n",
    "\n",
    "# Previous color: YlGn\n",
    "im = ax.imshow(data, cmap='hot_r')\n",
    "\n",
    "# We want to show all ticks...\n",
    "ax.set_xticks(np.arange(len(indx)))\n",
    "ax.set_yticks(np.arange(len(indx)))\n",
    "# ... and label them with the respective list entries\n",
    "ax.set_xticklabels(indx)\n",
    "ax.set_yticklabels(indx)\n",
    "\n",
    "ax.set_xlabel('Under evaluation')\n",
    "ax.set_ylabel('Ground_truth')\n",
    "\n",
    "# Rotate the tick labels and set their alignment.\n",
    "plt.setp(ax.get_xticklabels(), rotation=45, ha=\"right\", rotation_mode=\"anchor\")\n",
    "\n",
    "# Loop over data dimensions and create text annotations.\n",
    "for i in range(len(indx)):\n",
    "    for j in range(len(indx)):\n",
    "        color='w'\n",
    "        if round(data[i, j], 2) < 0.75:\n",
    "            color='black'\n",
    "        text = ax.text(j, i, round(data[i, j], 2), ha=\"center\", va=\"center\", color=color)\n",
    "        \n",
    "\n",
    "cbar = ax.figure.colorbar(im, ax=ax, fraction=0.043, pad=0.1)\n",
    "fig.tight_layout()\n",
    "plt.savefig(\"heatplot.png\")\n",
    "plt.show()"
   ]
  },
  {
   "cell_type": "code",
   "execution_count": null,
   "metadata": {
    "collapsed": true
   },
   "outputs": [],
   "source": []
  }
 ],
 "metadata": {
  "kernelspec": {
   "display_name": "Python 3",
   "language": "python",
   "name": "python3"
  },
  "language_info": {
   "codemirror_mode": {
    "name": "ipython",
    "version": 3
   },
   "file_extension": ".py",
   "mimetype": "text/x-python",
   "name": "python",
   "nbconvert_exporter": "python",
   "pygments_lexer": "ipython3",
   "version": "3.7.1"
  }
 },
 "nbformat": 4,
 "nbformat_minor": 2
}
